{
  "nbformat": 4,
  "nbformat_minor": 0,
  "metadata": {
    "colab": {
      "provenance": []
    },
    "kernelspec": {
      "name": "python3",
      "display_name": "Python 3"
    },
    "language_info": {
      "name": "python"
    }
  },
  "cells": [
    {
      "cell_type": "code",
      "execution_count": null,
      "metadata": {
        "id": "8zlEBYnw6YIH"
      },
      "outputs": [],
      "source": []
    },
    {
      "cell_type": "markdown",
      "source": [
        "1- What is Python, and why is it popular?\n",
        "Answer – Python is a programming language and it’s popular as its easy to learn and use, it’s an open source code, don’t need to spend huge amount of money to get the programming language.\n",
        "2- What is an interpreter in Python?\n",
        "Answer – Python interpreter is computer programme that transform the code into which can be readable by machine.\n",
        "3- What are pre-defined keywords in Python?\n",
        "Answer - A pre-defined keywords in Python are the inbuilt function ( e.g () /“”/len/loat/list etc)\n",
        "4- Can keywords be used as variable names?\n",
        "Answer – No\n",
        "5- What is mutability in Python?\n",
        "Answer – Mutability cab be used to change the object value after creation.\n",
        "6-Why are lists mutable, but tuples are immutable?\n",
        "Answer – List can be changed by adding and removing elements but tuples cannot be changed or removed elements.\n",
        "7- What is the difference between “==” and “is” operators in Python?\n",
        "Answer - The difference between the “==”and “is” operators in Python is that “==” compares the equality of objects, while “is” compares their identity.\n",
        "8- What are logical operators in Python?\n",
        "Answer - Logical operators in Python are used to link two or more operand and conduct logical comparisons on them.\n",
        "9- What is type casting in Python?\n",
        "Answer – The process of converting a data type into another data type.\n",
        "10- What is the difference between implicit and explicit type casting?\n",
        "Answer - Implicit type casting is automatic while explicit type casting is manual.\n",
        "11- What is the purpose of conditional statements in Python?\n",
        "Answer – Conditional statement use to link/compare between various different data set/object to make decision based on certain condition.\n",
        "12- How does the elif statement work?\n",
        "Answer – Elif (Else if) statement compare multiple else condition to take a decision based on the condition where the 1st condition did not meet the criteria.\n",
        "13- What is the difference between for and while loops?\n",
        "Answer - A for loop in Python is used for repetition of a specified sequence of elements and while loops is used to repeatedly execute a block of statements while a condition is true.\n",
        "14- Describe a scenario where a while loop is more suitable than a for loop?\n",
        "Answer - A while loop will be used when we do not know how many times a loop will need to run when the number of iterations is not predetermined.\n",
        "\n",
        "\n",
        "\n",
        "\n",
        "\n",
        "\n"
      ],
      "metadata": {
        "id": "XaWtlBAR64S1"
      }
    },
    {
      "cell_type": "code",
      "source": [
        "#Practical Questions\n",
        "#1-Write a Python program to calculate the factorial of a number provided by the user using a while loop?\n",
        "\n",
        "a=\"Hello,World!\"\n",
        "print(a)"
      ],
      "metadata": {
        "colab": {
          "base_uri": "https://localhost:8080/"
        },
        "id": "x1CKp0KS7X5U",
        "outputId": "47dce0d5-948f-44d2-ba31-2eb3bc0b466b"
      },
      "execution_count": null,
      "outputs": [
        {
          "output_type": "stream",
          "name": "stdout",
          "text": [
            "Hello,World!\n"
          ]
        }
      ]
    },
    {
      "cell_type": "code",
      "source": [
        "#2-Write a Python program that displays your name and age ?\n",
        "name = input(\"Enetr your name\")\n",
        "age = int(input(\"Age\"))\n",
        "print(name, age)\n"
      ],
      "metadata": {
        "id": "NpZClkq_CvmC",
        "colab": {
          "base_uri": "https://localhost:8080/"
        },
        "outputId": "264b317b-82ff-42b0-e447-bc9fcdbedd05"
      },
      "execution_count": null,
      "outputs": [
        {
          "output_type": "stream",
          "name": "stdout",
          "text": [
            "Enetr your nameMukesh\n",
            "Age44\n",
            "Mukesh 44\n"
          ]
        }
      ]
    },
    {
      "cell_type": "code",
      "source": [
        "#3-Write code to print all the pre-defined keywords in Python using the keyword library?\n",
        "import keyword\n",
        "print(keyword.kwlist)"
      ],
      "metadata": {
        "id": "_xDvfB57GmP3",
        "colab": {
          "base_uri": "https://localhost:8080/"
        },
        "outputId": "b6f749d7-9300-4fb4-fada-49245cbd9295"
      },
      "execution_count": null,
      "outputs": [
        {
          "output_type": "stream",
          "name": "stdout",
          "text": [
            "['False', 'None', 'True', 'and', 'as', 'assert', 'async', 'await', 'break', 'class', 'continue', 'def', 'del', 'elif', 'else', 'except', 'finally', 'for', 'from', 'global', 'if', 'import', 'in', 'is', 'lambda', 'nonlocal', 'not', 'or', 'pass', 'raise', 'return', 'try', 'while', 'with', 'yield']\n"
          ]
        }
      ]
    },
    {
      "cell_type": "code",
      "source": [
        "#4-Write a program that checks if a given word is a Python keyword?\n",
        "word = input(\"Enter a word to check if it's a Python keyword: \")\n",
        "\n",
        "if keyword.iskeyword(word):\n",
        "    print(f\"'{word}' is a Python keyword.\")\n",
        "else:\n",
        "    print(f\"'{word}' is not a Python keyword.\")"
      ],
      "metadata": {
        "id": "3ZhB6e9lJb4K",
        "colab": {
          "base_uri": "https://localhost:8080/"
        },
        "outputId": "ec0daef8-17cf-4c4e-84ea-a48e321dd44a"
      },
      "execution_count": null,
      "outputs": [
        {
          "output_type": "stream",
          "name": "stdout",
          "text": [
            "Enter a word to check if it's a Python keyword: monday\n",
            "'monday' is not a Python keyword.\n"
          ]
        }
      ]
    },
    {
      "cell_type": "code",
      "source": [
        "# 5- Create a list and tuple in Python, and demonstrate how attempting to change an element works differently for each\n",
        "#list -\n",
        "\n",
        "list_a = [1,2,3,\"A\",\"Ram\"]\n",
        "list_a[1]=9\n",
        "list_a[1]\n",
        "\n"
      ],
      "metadata": {
        "id": "MR21xbVI8EAO",
        "colab": {
          "base_uri": "https://localhost:8080/"
        },
        "outputId": "16edf2bd-7637-4bb3-c6cc-28f97a318150"
      },
      "execution_count": null,
      "outputs": [
        {
          "output_type": "execute_result",
          "data": {
            "text/plain": [
              "9"
            ]
          },
          "metadata": {},
          "execution_count": 2
        }
      ]
    },
    {
      "cell_type": "code",
      "source": [
        "# 5- Create a list and tuple in Python, and demonstrate how attempting to change an element works differently for each\n",
        "#tuple\n",
        "list_b = (1,2,3,4)\n",
        "list_b(1)=2\n",
        "list_b(1)"
      ],
      "metadata": {
        "colab": {
          "base_uri": "https://localhost:8080/",
          "height": 110
        },
        "id": "-5F5vpVhtSkk",
        "outputId": "a32c3ba8-db8e-47b1-f559-7bccaeefe1d5"
      },
      "execution_count": null,
      "outputs": [
        {
          "output_type": "error",
          "ename": "SyntaxError",
          "evalue": "cannot assign to function call here. Maybe you meant '==' instead of '='? (<ipython-input-6-e4ef52309b85>, line 4)",
          "traceback": [
            "\u001b[0;36m  File \u001b[0;32m\"<ipython-input-6-e4ef52309b85>\"\u001b[0;36m, line \u001b[0;32m4\u001b[0m\n\u001b[0;31m    list_b(1)=2\u001b[0m\n\u001b[0m    ^\u001b[0m\n\u001b[0;31mSyntaxError\u001b[0m\u001b[0;31m:\u001b[0m cannot assign to function call here. Maybe you meant '==' instead of '='?\n"
          ]
        }
      ]
    },
    {
      "cell_type": "markdown",
      "source": [],
      "metadata": {
        "id": "0YgFlPSpx42-"
      }
    },
    {
      "cell_type": "code",
      "source": [
        "#6 Write a function to demonstrate the behavior of mutable and immutable arguments ?\n",
        "#Mutable\n",
        "\n",
        "list_a = [1,2,3,\"A\",\"Ram\"]\n",
        "list_a[1]=3.5\n",
        "print(list_a)\n",
        "\n"
      ],
      "metadata": {
        "colab": {
          "base_uri": "https://localhost:8080/"
        },
        "id": "juLSqapcxm-V",
        "outputId": "3c34cf6f-1bc7-4139-e4f2-69d1df1518b8"
      },
      "execution_count": null,
      "outputs": [
        {
          "output_type": "stream",
          "name": "stdout",
          "text": [
            "[1, 3.5, 3, 'A', 'Ram']\n"
          ]
        }
      ]
    },
    {
      "cell_type": "markdown",
      "source": [],
      "metadata": {
        "id": "c8f7lyyx1huu"
      }
    },
    {
      "cell_type": "code",
      "source": [
        "#7 Write a function to demonstrate the behavior of mutable and immutable arguments ?\n",
        "## immutable\n",
        "\n",
        "list_d = (1,2,3,4)\n",
        "list_d(1)==2\n",
        "print(list_d)"
      ],
      "metadata": {
        "colab": {
          "base_uri": "https://localhost:8080/",
          "height": 201
        },
        "id": "h-XTL4zDxyrr",
        "outputId": "734c5d23-c3ff-4684-b276-63db83cc19b2"
      },
      "execution_count": null,
      "outputs": [
        {
          "output_type": "error",
          "ename": "TypeError",
          "evalue": "'tuple' object is not callable",
          "traceback": [
            "\u001b[0;31m---------------------------------------------------------------------------\u001b[0m",
            "\u001b[0;31mTypeError\u001b[0m                                 Traceback (most recent call last)",
            "\u001b[0;32m<ipython-input-13-60045a492b9b>\u001b[0m in \u001b[0;36m<cell line: 5>\u001b[0;34m()\u001b[0m\n\u001b[1;32m      3\u001b[0m \u001b[0;34m\u001b[0m\u001b[0m\n\u001b[1;32m      4\u001b[0m \u001b[0mlist_d\u001b[0m \u001b[0;34m=\u001b[0m \u001b[0;34m(\u001b[0m\u001b[0;36m1\u001b[0m\u001b[0;34m,\u001b[0m\u001b[0;36m2\u001b[0m\u001b[0;34m,\u001b[0m\u001b[0;36m3\u001b[0m\u001b[0;34m,\u001b[0m\u001b[0;36m4\u001b[0m\u001b[0;34m)\u001b[0m\u001b[0;34m\u001b[0m\u001b[0;34m\u001b[0m\u001b[0m\n\u001b[0;32m----> 5\u001b[0;31m \u001b[0mlist_d\u001b[0m\u001b[0;34m(\u001b[0m\u001b[0;36m1\u001b[0m\u001b[0;34m)\u001b[0m\u001b[0;34m==\u001b[0m\u001b[0;36m2\u001b[0m\u001b[0;34m\u001b[0m\u001b[0;34m\u001b[0m\u001b[0m\n\u001b[0m\u001b[1;32m      6\u001b[0m \u001b[0mprint\u001b[0m\u001b[0;34m(\u001b[0m\u001b[0mlist_d\u001b[0m\u001b[0;34m)\u001b[0m\u001b[0;34m\u001b[0m\u001b[0;34m\u001b[0m\u001b[0m\n",
            "\u001b[0;31mTypeError\u001b[0m: 'tuple' object is not callable"
          ]
        }
      ]
    },
    {
      "cell_type": "code",
      "source": [
        "#8 Write a program to demonstrate the use of logical operator?\n",
        "\n",
        "4 == 5\n",
        "\n"
      ],
      "metadata": {
        "id": "QgCPRdLY7EvK",
        "colab": {
          "base_uri": "https://localhost:8080/"
        },
        "outputId": "f953a15a-1fd5-41b8-8bc7-f59049ea85bc"
      },
      "execution_count": null,
      "outputs": [
        {
          "output_type": "execute_result",
          "data": {
            "text/plain": [
              "False"
            ]
          },
          "metadata": {},
          "execution_count": 13
        }
      ]
    },
    {
      "cell_type": "code",
      "source": [
        "#9 Write a Python program to convert user input from string to integer, float, and boolean types?\n",
        "## string to integer\n",
        "a=\"5\"\n",
        "int(a)\n"
      ],
      "metadata": {
        "colab": {
          "base_uri": "https://localhost:8080/"
        },
        "id": "6rQ9Ktsj7GSs",
        "outputId": "8cbfefb7-41b1-499e-9808-0cff3c608307"
      },
      "execution_count": null,
      "outputs": [
        {
          "output_type": "execute_result",
          "data": {
            "text/plain": [
              "5"
            ]
          },
          "metadata": {},
          "execution_count": 22
        }
      ]
    },
    {
      "cell_type": "code",
      "source": [
        "#9 Write a Python program to convert user input from string to integer, float, and boolean types?\n",
        "## string to float\n",
        "a=\"5\"\n",
        "float(a)"
      ],
      "metadata": {
        "colab": {
          "base_uri": "https://localhost:8080/"
        },
        "id": "jYBI7E6p9S0g",
        "outputId": "0730ac8b-5840-4078-c688-d21df0627256"
      },
      "execution_count": null,
      "outputs": [
        {
          "output_type": "execute_result",
          "data": {
            "text/plain": [
              "5.0"
            ]
          },
          "metadata": {},
          "execution_count": 24
        }
      ]
    },
    {
      "cell_type": "code",
      "source": [
        "#9 Write a Python program to convert user input from string to integer, float, and boolean types?\n",
        "## string to boolean\n",
        "\n",
        "a=\"5\"\n",
        "bool(a)\n",
        "\n"
      ],
      "metadata": {
        "colab": {
          "base_uri": "https://localhost:8080/"
        },
        "id": "AoFiLcb_9a_d",
        "outputId": "09c0c431-5b4e-4a55-8911-4e26a30df2ca"
      },
      "execution_count": null,
      "outputs": [
        {
          "output_type": "execute_result",
          "data": {
            "text/plain": [
              "True"
            ]
          },
          "metadata": {},
          "execution_count": 25
        }
      ]
    },
    {
      "cell_type": "code",
      "source": [
        "#10 Write code to demonstrate type casting with list elements ?\n",
        "\n",
        "a = [1,2,3,4,5,\"Gopal\"]\n",
        "a[0]=\"Hi\"\n",
        "print(a)"
      ],
      "metadata": {
        "colab": {
          "base_uri": "https://localhost:8080/"
        },
        "id": "UkaUT3UZ9qhx",
        "outputId": "bf026a40-7277-4704-9f06-67f4bc7e303c"
      },
      "execution_count": null,
      "outputs": [
        {
          "output_type": "stream",
          "name": "stdout",
          "text": [
            "['Hi', 2, 3, 4, 5, 'Gopal']\n"
          ]
        }
      ]
    },
    {
      "cell_type": "markdown",
      "source": [],
      "metadata": {
        "id": "5UhRCdmycxQq"
      }
    },
    {
      "cell_type": "code",
      "source": [
        "# 11-Write a program that checks if a number is positive, negative, or zero ?\n",
        "\n",
        "a = -2\n",
        "if a > 0:\n",
        "    print(f\"{a} is positive\")\n",
        "elif a < 0:\n",
        "    print(f\"{a} is negative\")\n",
        "else:\n",
        "    print(f\"{a} is zero\")\n",
        "    print(a)\n",
        "\n",
        "\n",
        "\n"
      ],
      "metadata": {
        "id": "O9iN69gN-tAF",
        "colab": {
          "base_uri": "https://localhost:8080/"
        },
        "outputId": "e2379396-d02a-4b45-a2d0-3b3c128e805a"
      },
      "execution_count": null,
      "outputs": [
        {
          "output_type": "stream",
          "name": "stdout",
          "text": [
            "-2 is negative\n"
          ]
        }
      ]
    },
    {
      "cell_type": "code",
      "source": [
        "#12 -  Write a for loop to print numbers from 1 to 100 ?\n",
        "\n",
        "for i in range(1, 101):\n",
        "  print(i)\n",
        "\n"
      ],
      "metadata": {
        "colab": {
          "base_uri": "https://localhost:8080/"
        },
        "id": "L5KFxoxsdCtB",
        "outputId": "18406008-1eb2-4fe3-eac3-7ba868bf06ea"
      },
      "execution_count": null,
      "outputs": [
        {
          "output_type": "stream",
          "name": "stdout",
          "text": [
            "1\n",
            "2\n",
            "3\n",
            "4\n",
            "5\n",
            "6\n",
            "7\n",
            "8\n",
            "9\n",
            "10\n",
            "11\n",
            "12\n",
            "13\n",
            "14\n",
            "15\n",
            "16\n",
            "17\n",
            "18\n",
            "19\n",
            "20\n",
            "21\n",
            "22\n",
            "23\n",
            "24\n",
            "25\n",
            "26\n",
            "27\n",
            "28\n",
            "29\n",
            "30\n",
            "31\n",
            "32\n",
            "33\n",
            "34\n",
            "35\n",
            "36\n",
            "37\n",
            "38\n",
            "39\n",
            "40\n",
            "41\n",
            "42\n",
            "43\n",
            "44\n",
            "45\n",
            "46\n",
            "47\n",
            "48\n",
            "49\n",
            "50\n",
            "51\n",
            "52\n",
            "53\n",
            "54\n",
            "55\n",
            "56\n",
            "57\n",
            "58\n",
            "59\n",
            "60\n",
            "61\n",
            "62\n",
            "63\n",
            "64\n",
            "65\n",
            "66\n",
            "67\n",
            "68\n",
            "69\n",
            "70\n",
            "71\n",
            "72\n",
            "73\n",
            "74\n",
            "75\n",
            "76\n",
            "77\n",
            "78\n",
            "79\n",
            "80\n",
            "81\n",
            "82\n",
            "83\n",
            "84\n",
            "85\n",
            "86\n",
            "87\n",
            "88\n",
            "89\n",
            "90\n",
            "91\n",
            "92\n",
            "93\n",
            "94\n",
            "95\n",
            "96\n",
            "97\n",
            "98\n",
            "99\n",
            "100\n"
          ]
        }
      ]
    },
    {
      "cell_type": "code",
      "source": [
        "# Write a Python program to find the sum of all even numbers between 1 and 500 ?\n",
        "\n",
        "\n",
        "list = range(1,500,2)\n",
        "print(sum(list))"
      ],
      "metadata": {
        "colab": {
          "base_uri": "https://localhost:8080/"
        },
        "id": "PPIuYpEKe_UM",
        "outputId": "28ba4b05-e209-458e-8e43-e681ca07cc31"
      },
      "execution_count": null,
      "outputs": [
        {
          "output_type": "stream",
          "name": "stdout",
          "text": [
            "62500\n"
          ]
        }
      ]
    },
    {
      "cell_type": "code",
      "source": [
        "#14 - Write a program to reverse a string using a while loop ?\n",
        "\n",
        "my_str = \"python\"\n",
        "reverse_str=\"\"\n",
        "index = len(my_str)-1\n",
        "while index >=0:\n",
        "  reverse_str=reverse_str+my_str[index]\n",
        "  index=index-1\n",
        "print(reverse_str)\n"
      ],
      "metadata": {
        "colab": {
          "base_uri": "https://localhost:8080/"
        },
        "id": "6tmjUeVQh61b",
        "outputId": "22846a38-0509-4fff-8a6a-da7a521919fc"
      },
      "execution_count": null,
      "outputs": [
        {
          "output_type": "stream",
          "name": "stdout",
          "text": [
            "nohtyp\n"
          ]
        }
      ]
    },
    {
      "cell_type": "code",
      "source": [
        "# 15 Write a Python program to calculate the factorial of a number provided by the user using a while loop?\n",
        "\n",
        "X = int(input(\"enter the number\"))\n",
        "f = 1\n",
        "while X > 0:\n",
        "  f=f*X\n",
        "  X=X-1\n",
        "print(f)\n",
        "\n"
      ],
      "metadata": {
        "colab": {
          "base_uri": "https://localhost:8080/"
        },
        "id": "H5xNtbwFinpA",
        "outputId": "46bf36a5-5d52-446d-cb55-798e1507fd04"
      },
      "execution_count": null,
      "outputs": [
        {
          "output_type": "stream",
          "name": "stdout",
          "text": [
            "enter the number4\n",
            "24\n"
          ]
        }
      ]
    }
  ]
}